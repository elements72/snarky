{
 "cells": [
  {
   "cell_type": "code",
   "execution_count": null,
   "metadata": {
    "colab": {
     "base_uri": "https://localhost:8080/"
    },
    "id": "qX9xkBDSmRj8",
    "outputId": "f240f561-88d3-48b1-cba3-2c125c713cd0",
    "pycharm": {
     "name": "#%%\n"
    }
   },
   "outputs": [
    {
     "name": "stdout",
     "output_type": "stream",
     "text": [
      "Cloning into 'snarky'...\n",
      "remote: Enumerating objects: 144, done.\u001B[K\n",
      "remote: Counting objects: 100% (144/144), done.\u001B[K\n",
      "remote: Compressing objects: 100% (100/100), done.\u001B[K\n",
      "remote: Total 144 (delta 41), reused 140 (delta 37), pack-reused 0\u001B[K\n",
      "Receiving objects: 100% (144/144), 1.78 MiB | 8.20 MiB/s, done.\n",
      "Resolving deltas: 100% (41/41), done.\n"
     ]
    }
   ],
   "source": [
    "! git clone -b feature/sequenceDataset https://github.com/elements72/snarky.git"
   ]
  },
  {
   "cell_type": "code",
   "execution_count": null,
   "metadata": {
    "colab": {
     "base_uri": "https://localhost:8080/"
    },
    "id": "L2l-_0wQmmDW",
    "outputId": "4f7c0e19-d94c-4c78-f746-a6591edf37f3",
    "pycharm": {
     "name": "#%%\n"
    }
   },
   "outputs": [
    {
     "name": "stdout",
     "output_type": "stream",
     "text": [
      "Collecting chronometer\n",
      "  Downloading chronometer-1.0-py2.py3-none-any.whl (6.3 kB)\n",
      "Collecting monotonic==0.1\n",
      "  Downloading monotonic-0.1.tar.gz (2.6 kB)\n",
      "Building wheels for collected packages: monotonic\n",
      "  Building wheel for monotonic (setup.py) ... \u001B[?25l\u001B[?25hdone\n",
      "  Created wheel for monotonic: filename=monotonic-0.1-py3-none-any.whl size=3289 sha256=a088c677d62a9fccc76e8376cc922840294fcfd755c5bc487ebc2171976db952\n",
      "  Stored in directory: /root/.cache/pip/wheels/79/e3/11/907356922498c849a63da413077a04e41ffeb045d5b0baaa2f\n",
      "Successfully built monotonic\n",
      "Installing collected packages: monotonic, chronometer\n",
      "Successfully installed chronometer-1.0 monotonic-0.1\n",
      "Collecting dataclasses\n",
      "  Downloading dataclasses-0.6-py3-none-any.whl (14 kB)\n",
      "Installing collected packages: dataclasses\n",
      "Successfully installed dataclasses-0.6\n",
      "Requirement already satisfied: music21 in /usr/local/lib/python3.7/dist-packages (5.5.0)\n"
     ]
    }
   ],
   "source": [
    "! pip install chronometer\n",
    "! pip install dataclasses\n",
    "! pip install music21"
   ]
  },
  {
   "cell_type": "code",
   "execution_count": null,
   "metadata": {
    "colab": {
     "base_uri": "https://localhost:8080/"
    },
    "id": "NFz292Jymooe",
    "outputId": "443f1915-60da-40a6-ed3e-4a26908c1a55",
    "pycharm": {
     "name": "#%%\n"
    }
   },
   "outputs": [
    {
     "name": "stdout",
     "output_type": "stream",
     "text": [
      "/content/snarky/src\n"
     ]
    }
   ],
   "source": [
    "%cd /content/snarky/src"
   ]
  },
  {
   "cell_type": "code",
   "execution_count": null,
   "metadata": {
    "colab": {
     "base_uri": "https://localhost:8080/"
    },
    "id": "tuUjky8glOy0",
    "outputId": "c0796404-b83f-4a38-e495-59932220ea36",
    "pycharm": {
     "name": "#%%\n"
    }
   },
   "outputs": [
    {
     "name": "stdout",
     "output_type": "stream",
     "text": [
      "Processed songs:  2437\n"
     ]
    },
    {
     "data": {
      "text/plain": [
       "<keras.engine.functional.Functional at 0x7fd41c1650d0>"
      ]
     },
     "execution_count": 5,
     "metadata": {},
     "output_type": "execute_result"
    }
   ],
   "source": [
    "from loader import Loader\n",
    "from net import Snarky\n",
    "from preprocessor import Preprocessor\n",
    "\n",
    "path=\"/content/drive/MyDrive/tirocinio/snarky/data/dataMD\"\n",
    "source_melody=\"/content/drive/MyDrive/tirocinio/datasets/Wikifonia/Antonio Carlos Jobim - The Girl From Ipanema.mxl\"\n",
    "dest_path = \"./generated\"\n",
    "weights = None\n",
    "weights_save = \"model.params\"\n",
    "\n",
    "\n",
    "\n",
    "batch_size = 64\n",
    "sequence_length = 32\n",
    "num_predictions = 125\n",
    "\n",
    "# Load the dataset and create the sequence\n",
    "loader = Loader(path)\n",
    "dataset = loader.load()\n",
    "\n",
    "\n",
    "sequence = loader.create_sequences(dataset, sequence_length)\n",
    "params = loader.get_params()\n",
    "\n",
    "# Create the model\n",
    "snarky = Snarky(_sequence=sequence, _batch_size=batch_size, _sequence_length=sequence_length, _params=params)\n",
    "snarky.create_model()"
   ]
  },
  {
   "cell_type": "code",
   "execution_count": null,
   "metadata": {
    "colab": {
     "background_save": true,
     "base_uri": "https://localhost:8080/"
    },
    "id": "vDaeFrLfcJw-",
    "outputId": "e07e6322-f2ef-4401-e5e7-b3073ae628b1",
    "pycharm": {
     "name": "#%%\n"
    }
   },
   "outputs": [
    {
     "name": "stdout",
     "output_type": "stream",
     "text": [
      "Epoch 1/50\n",
      "45229/45229 [==============================] - 623s 14ms/step - loss: 2.9395 - chords_loss: 1.5130 - chords_play_loss: 0.0899 - melody_loss: 1.1188 - melody_play_loss: 0.2178\n",
      "Epoch 2/50\n",
      "45229/45229 [==============================] - 309s 7ms/step - loss: 2.4342 - chords_loss: 1.2515 - chords_play_loss: 0.0808 - melody_loss: 0.9075 - melody_play_loss: 0.1944\n",
      "Epoch 3/50\n",
      "45229/45229 [==============================] - 312s 7ms/step - loss: 2.3198 - chords_loss: 1.1958 - chords_play_loss: 0.0786 - melody_loss: 0.8557 - melody_play_loss: 0.1897\n",
      "Epoch 4/50\n",
      "45229/45229 [==============================] - 309s 7ms/step - loss: 2.2868 - chords_loss: 1.1844 - chords_play_loss: 0.0779 - melody_loss: 0.8371 - melody_play_loss: 0.1874\n",
      "Epoch 5/50\n",
      "45229/45229 [==============================] - 300s 7ms/step - loss: 6.8262 - chords_loss: 3.6280 - chords_play_loss: 0.0999 - melody_loss: 2.8356 - melody_play_loss: 0.2627\n",
      "Epoch 6/50\n",
      "45229/45229 [==============================] - 288s 6ms/step - loss: 6.0601 - chords_loss: 3.3025 - chords_play_loss: 0.1100 - melody_loss: 2.3391 - melody_play_loss: 0.3085\n",
      "Epoch 7/50\n",
      "45229/45229 [==============================] - 296s 7ms/step - loss: 5.8584 - chords_loss: 3.2439 - chords_play_loss: 0.1208 - melody_loss: 2.1605 - melody_play_loss: 0.3332\n",
      "Epoch 8/50\n",
      "45229/45229 [==============================] - 298s 7ms/step - loss: 5.8874 - chords_loss: 3.1903 - chords_play_loss: 0.1253 - melody_loss: 2.2274 - melody_play_loss: 0.3444\n",
      "Epoch 9/50\n",
      "45223/45229 [============================>.] - ETA: 0s - loss: 5.5911 - chords_loss: 2.9684 - chords_play_loss: 0.1322 - melody_loss: 2.1330 - melody_play_loss: 0.3575Restoring model weights from the end of the best epoch: 4.\n",
      "45229/45229 [==============================] - 298s 7ms/step - loss: 5.5910 - chords_loss: 2.9684 - chords_play_loss: 0.1322 - melody_loss: 2.1329 - melody_play_loss: 0.3575\n",
      "Epoch 9: early stopping\n"
     ]
    }
   ],
   "source": [
    "if weights is not None:\n",
    "    snarky.load(weights)\n",
    "\n",
    "snarky.train()\n",
    "\n",
    "if weights_save is not None:\n",
    "    snarky.save(weights_save)"
   ]
  },
  {
   "cell_type": "code",
   "execution_count": null,
   "metadata": {
    "colab": {
     "background_save": true
    },
    "id": "gSc5ue7DbDEB",
    "pycharm": {
     "name": "#%%\n"
    }
   },
   "outputs": [],
   "source": [
    "weights_save = \"model.params\"\n",
    "\n",
    "snarky.save(weights_save)"
   ]
  },
  {
   "cell_type": "code",
   "execution_count": null,
   "metadata": {
    "id": "9o9c_EKglOy8",
    "pycharm": {
     "name": "#%%\n"
    }
   },
   "outputs": [],
   "source": [
    "# Load a song for generation input\n",
    "pre = Preprocessor(\"./\")\n",
    "source_melody=\"/content/drive/MyDrive/tirocinio/datasets/Wikifonia/Adam Levine, Jesse Charmichael - This love.mxl\"\n",
    "song = pre.preprocess(source_melody)\n",
    "print(song)\n",
    "\n",
    "encoded_song = loader.encode_song(song.get_song())\n",
    "generated = snarky.generate(encoded_song[:sequence_length], num_predictions=384)\n",
    "loader.save_song(generated, dest_path)"
   ]
  }
 ],
 "metadata": {
  "accelerator": "GPU",
  "colab": {
   "collapsed_sections": [],
   "name": "snarky.ipynb",
   "provenance": []
  },
  "kernelspec": {
   "display_name": "Python 3",
   "language": "python",
   "name": "python3"
  },
  "language_info": {
   "codemirror_mode": {
    "name": "ipython",
    "version": 2
   },
   "file_extension": ".py",
   "mimetype": "text/x-python",
   "name": "python",
   "nbconvert_exporter": "python",
   "pygments_lexer": "ipython2",
   "version": "2.7.6"
  }
 },
 "nbformat": 4,
 "nbformat_minor": 0
}