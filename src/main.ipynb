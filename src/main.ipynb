{
 "cells": [
  {
   "cell_type": "code",
   "execution_count": null,
   "outputs": [
    {
     "name": "stdout",
     "output_type": "stream",
     "text": [
      "Processed songs:  686\n"
     ]
    },
    {
     "name": "stderr",
     "output_type": "stream",
     "text": [
      "2022-04-15 13:04:08.827896: I tensorflow/stream_executor/cuda/cuda_gpu_executor.cc:936] successful NUMA node read from SysFS had negative value (-1), but there must be at least one NUMA node, so returning NUMA node zero\n",
      "2022-04-15 13:04:08.855049: W tensorflow/stream_executor/platform/default/dso_loader.cc:64] Could not load dynamic library 'libcudnn.so.8'; dlerror: libcudnn.so.8: cannot open shared object file: No such file or directory\n",
      "2022-04-15 13:04:08.855068: W tensorflow/core/common_runtime/gpu/gpu_device.cc:1850] Cannot dlopen some GPU libraries. Please make sure the missing libraries mentioned above are installed properly if you would like to use GPU. Follow the guide at https://www.tensorflow.org/install/gpu for how to download and setup the required libraries for your platform.\n",
      "Skipping registering GPU devices...\n",
      "2022-04-15 13:04:08.855763: I tensorflow/core/platform/cpu_feature_guard.cc:151] This TensorFlow binary is optimized with oneAPI Deep Neural Network Library (oneDNN) to use the following CPU instructions in performance-critical operations:  AVX2 FMA\n",
      "To enable them in other operations, rebuild TensorFlow with the appropriate compiler flags.\n"
     ]
    },
    {
     "name": "stdout",
     "output_type": "stream",
     "text": [
      "Model: \"model\"\n",
      "__________________________________________________________________________________________________\n",
      " Layer (type)                   Output Shape         Param #     Connected to                     \n",
      "==================================================================================================\n",
      " input_1 (InputLayer)           [(None, 25, 4)]      0           []                               \n",
      "                                                                                                  \n",
      " lstm (LSTM)                    (None, 128)          68096       ['input_1[0][0]']                \n",
      "                                                                                                  \n",
      " chords (Dense)                 (None, 527)          67983       ['lstm[0][0]']                   \n",
      "                                                                                                  \n",
      " chords_play (Dense)            (None, 2)            258         ['lstm[0][0]']                   \n",
      "                                                                                                  \n",
      " melody (Dense)                 (None, 73)           9417        ['lstm[0][0]']                   \n",
      "                                                                                                  \n",
      " melody_play (Dense)            (None, 2)            258         ['lstm[0][0]']                   \n",
      "                                                                                                  \n",
      "==================================================================================================\n",
      "Total params: 146,012\n",
      "Trainable params: 146,012\n",
      "Non-trainable params: 0\n",
      "__________________________________________________________________________________________________\n",
      "Epoch 1/50\n",
      "13069/13069 [==============================] - 293s 22ms/step - loss: 3.5720 - chords_loss: 1.7327 - chords_play_loss: 0.1218 - melody_loss: 1.4337 - melody_play_loss: 0.2838\n",
      "Epoch 2/50\n",
      "13069/13069 [==============================] - 279s 21ms/step - loss: 2.6256 - chords_loss: 1.2994 - chords_play_loss: 0.1089 - melody_loss: 0.9890 - melody_play_loss: 0.2283\n",
      "Epoch 3/50\n",
      "13069/13069 [==============================] - 285s 22ms/step - loss: 2.4208 - chords_loss: 1.2047 - chords_play_loss: 0.1053 - melody_loss: 0.8916 - melody_play_loss: 0.2192\n",
      "Epoch 4/50\n",
      " 4657/13069 [=========>....................] - ETA: 3:01 - loss: 2.2811 - chords_loss: 1.1153 - chords_play_loss: 0.1013 - melody_loss: 0.8548 - melody_play_loss: 0.2097"
     ]
    }
   ],
   "source": [
    "import loader as ld\n",
    "from net import Snarky\n",
    "\n",
    "path=\"dataset/dataSM\"\n",
    "loader = ld.Loader(path)\n",
    "dataset = loader.load()\n",
    "\n",
    "batch_size = 64\n",
    "sequence_length = 25\n",
    "\n",
    "sequence = loader.create_sequences(dataset, sequence_length)\n",
    "params = loader.get_vocabulary()\n",
    "snarky = Snarky(_sequence=sequence, _batch_size=batch_size, _sequence_length=sequence_length, _params=params)\n",
    "net = snarky.net()\n",
    "snarky.train(net)"
   ],
   "metadata": {
    "collapsed": false,
    "pycharm": {
     "name": "#%%\n",
     "is_executing": true
    }
   }
  },
  {
   "cell_type": "code",
   "execution_count": null,
   "outputs": [],
   "source": [],
   "metadata": {
    "collapsed": false,
    "pycharm": {
     "name": "#%%\n"
    }
   }
  }
 ],
 "metadata": {
  "kernelspec": {
   "display_name": "Python 3",
   "language": "python",
   "name": "python3"
  },
  "language_info": {
   "codemirror_mode": {
    "name": "ipython",
    "version": 2
   },
   "file_extension": ".py",
   "mimetype": "text/x-python",
   "name": "python",
   "nbconvert_exporter": "python",
   "pygments_lexer": "ipython2",
   "version": "2.7.6"
  }
 },
 "nbformat": 4,
 "nbformat_minor": 0
}